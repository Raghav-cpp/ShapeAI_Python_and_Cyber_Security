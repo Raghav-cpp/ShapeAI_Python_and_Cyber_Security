{
  "nbformat": 4,
  "nbformat_minor": 0,
  "metadata": {
    "colab": {
      "name": "Raghav_Verma.ipynb",
      "provenance": []
    },
    "kernelspec": {
      "name": "python3",
      "display_name": "Python 3"
    },
    "language_info": {
      "name": "python"
    }
  },
  "cells": [
    {
      "cell_type": "code",
      "metadata": {
        "id": "fnqSTCHeb1g4"
      },
      "source": [
        "import requests\n",
        "from datetime import datetime"
      ],
      "execution_count": 18,
      "outputs": []
    },
    {
      "cell_type": "code",
      "metadata": {
        "colab": {
          "base_uri": "https://localhost:8080/"
        },
        "id": "6aawKW-Lb64M",
        "outputId": "6d2a9bf5-97fa-46b5-d93c-979d70b5f20a"
      },
      "source": [
        "api_key = '87d845b0b6cf29baa1a73cc34b067a95'\n",
        "location = input(\"Enter the city name: \")"
      ],
      "execution_count": 32,
      "outputs": [
        {
          "output_type": "stream",
          "text": [
            "Enter the city name: delhi\n"
          ],
          "name": "stdout"
        }
      ]
    },
    {
      "cell_type": "code",
      "metadata": {
        "id": "RKBAjR_HcMAL"
      },
      "source": [
        "complete_api_link = \"https://api.openweathermap.org/data/2.5/weather?q=\"+location+\"&appid=\"+api_key\n",
        "api_link = requests.get(complete_api_link)\n",
        "api_data = api_link.json()"
      ],
      "execution_count": 33,
      "outputs": []
    },
    {
      "cell_type": "code",
      "metadata": {
        "id": "WgpP5HSbcRHV"
      },
      "source": [
        "temp_city = ((api_data['main']['temp']) - 273.15)\n",
        "weather_desc = api_data['weather'][0]['description']\n",
        "hmdt = api_data['main']['humidity']\n",
        "wind_spd = api_data['wind']['speed']\n",
        "date_time = datetime.now().strftime(\"%d %b %Y | %I:%M:%S %p\")"
      ],
      "execution_count": 34,
      "outputs": []
    },
    {
      "cell_type": "code",
      "metadata": {
        "colab": {
          "base_uri": "https://localhost:8080/"
        },
        "id": "8QKDKuNfb6rq",
        "outputId": "7422e7d0-ba54-4048-8232-156a275c291e"
      },
      "source": [
        "print (\"-------------------------------------------------------------\")\n",
        "print (\"Weather Stats for - {}  || {}\".format(location.upper(), date_time))\n",
        "print (\"-------------------------------------------------------------\")\n",
        "print (\"Current temperature is: {:.2f} deg C\".format(temp_city))\n",
        "print (\"Current weather desc  :\",weather_desc)\n",
        "print (\"Current Humidity      :\",hmdt, '%')\n",
        "print (\"Current wind speed    :\",wind_spd ,'kmph')"
      ],
      "execution_count": 35,
      "outputs": [
        {
          "output_type": "stream",
          "text": [
            "-------------------------------------------------------------\n",
            "Weather Stats for - DELHI  || 21 Jun 2021 | 05:20:26 PM\n",
            "-------------------------------------------------------------\n",
            "Current temperature is: 33.05 deg C\n",
            "Current weather desc  : haze\n",
            "Current Humidity      : 62 %\n",
            "Current wind speed    : 2.57 kmph\n"
          ],
          "name": "stdout"
        }
      ]
    },
    {
      "cell_type": "markdown",
      "metadata": {
        "id": "6DOwWBs3lt2p"
      },
      "source": [
        "INFO IN TEXT FILE"
      ]
    },
    {
      "cell_type": "code",
      "metadata": {
        "id": "beiIAPfSmBWM"
      },
      "source": [
        "import requests\n",
        "r = requests.get('https://api.openweathermap.org/data/2.5/weather?q=delhi&appid=87d845b0b6cf29baa1a73cc34b067a95')"
      ],
      "execution_count": 36,
      "outputs": []
    },
    {
      "cell_type": "code",
      "metadata": {
        "colab": {
          "base_uri": "https://localhost:8080/"
        },
        "id": "VtZtWAagmZZe",
        "outputId": "eac2399e-0e3c-4327-a821-e662ec2138fb"
      },
      "source": [
        "print(r.text)"
      ],
      "execution_count": 40,
      "outputs": [
        {
          "output_type": "stream",
          "text": [
            "{\"coord\":{\"lon\":77.2167,\"lat\":28.6667},\"weather\":[{\"id\":721,\"main\":\"Haze\",\"description\":\"haze\",\"icon\":\"50n\"}],\"base\":\"stations\",\"main\":{\"temp\":306.2,\"feels_like\":313.2,\"temp_min\":306.2,\"temp_max\":307.21,\"pressure\":1002,\"humidity\":62},\"visibility\":3500,\"wind\":{\"speed\":2.57,\"deg\":140},\"clouds\":{\"all\":40},\"dt\":1624295786,\"sys\":{\"type\":1,\"id\":9165,\"country\":\"IN\",\"sunrise\":1624233225,\"sunset\":1624283518},\"timezone\":19800,\"id\":1273294,\"name\":\"Delhi\",\"cod\":200}\n"
          ],
          "name": "stdout"
        }
      ]
    },
    {
      "cell_type": "code",
      "metadata": {
        "id": "0-LCeMOtmYpK"
      },
      "source": [
        "with open('r.text','wb') as f:\n",
        "  f.write(r.content)"
      ],
      "execution_count": 44,
      "outputs": []
    }
  ]
}